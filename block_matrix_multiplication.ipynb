{
  "cells": [
    {
      "cell_type": "code",
      "execution_count": null,
      "metadata": {
        "collapsed": true,
        "id": "rVoPoAOk4Jld"
      },
      "outputs": [],
      "source": [
        "import numpy as np\n",
        "import multiprocessing\n",
        "import time"
      ]
    },
    {
      "cell_type": "code",
      "execution_count": 164,
      "outputs": [
        {
          "output_type": "execute_result",
          "data": {
            "text/plain": [
              "(array([[        1,         2,         3, ...,      9998,      9999,\n",
              "             10000],\n",
              "        [    10001,     10002,     10003, ...,     19998,     19999,\n",
              "             20000],\n",
              "        [    20001,     20002,     20003, ...,     29998,     29999,\n",
              "             30000],\n",
              "        ...,\n",
              "        [ 99970001,  99970002,  99970003, ...,  99979998,  99979999,\n",
              "          99980000],\n",
              "        [ 99980001,  99980002,  99980003, ...,  99989998,  99989999,\n",
              "          99990000],\n",
              "        [ 99990001,  99990002,  99990003, ...,  99999998,  99999999,\n",
              "         100000000]]),\n",
              " array([[        1,     10001,     20001, ...,  99970001,  99980001,\n",
              "          99990001],\n",
              "        [        2,     10002,     20002, ...,  99970002,  99980002,\n",
              "          99990002],\n",
              "        [        3,     10003,     20003, ...,  99970003,  99980003,\n",
              "          99990003],\n",
              "        ...,\n",
              "        [     9998,     19998,     29998, ...,  99979998,  99989998,\n",
              "          99999998],\n",
              "        [     9999,     19999,     29999, ...,  99979999,  99989999,\n",
              "          99999999],\n",
              "        [    10000,     20000,     30000, ...,  99980000,  99990000,\n",
              "         100000000]]))"
            ]
          },
          "metadata": {},
          "execution_count": 164
        }
      ],
      "source": [
        "A = np.arange(100000000) + 1\n",
        "A = A.reshape(10000, 10000)\n",
        "\n",
        "B = np.arange(100000000) + 1\n",
        "B = B.reshape(10000, 10000)\n",
        "B = B.T\n",
        "\n",
        "A, B"
      ],
      "metadata": {
        "pycharm": {
          "name": "#%%\n"
        },
        "colab": {
          "base_uri": "https://localhost:8080/"
        },
        "id": "Eqy1ag_E4Jlg",
        "outputId": "5b6c1f22-4b3e-4951-d4fb-7a38b32344aa"
      }
    },
    {
      "cell_type": "code",
      "execution_count": null,
      "outputs": [],
      "source": [
        "def submat_mul(A, B):\n",
        "      if A.shape[0] == 2:\n",
        "          return A @ B\n",
        "      if A.shape[0] == 4:\n",
        "\n",
        "          return np.vstack((np.hstack((mul(A[:2, :2], B[:2, :2]) + mul(A[:2, 2:], B[2:, :2]), mul(A[:2, :2], B[:2, 2:]) + mul(A[:2, 2:], B[2:, 2:]))),\n",
        "                          np.hstack((mul(A[2:, :2], B[:2, :2]) + mul(A[2:, 2:], B[2:, :2]), mul(A[2:, :2], B[:2, 2:]) + mul(A[2:, 2:], B[2:, 2:])))))\n",
        "      \n",
        "      X = submat_mul(A[2:, 2:], B[2:, 2:])\n",
        "      return np.vstack((np.hstack((mul(A[:2, :2], B[:2, :2]) + mul(A[:2, 2:], B[2:, :2]), mul(A[:2, :2], B[:2, 2:]) + mul(A[:2, 2:], B[2:, 2:]))),\n",
        "                          np.hstack((mul(A[2:, :2], B[:2, :2]) + mul(A[2:, 2:], B[2:, :2]), mul(A[2:, :2], B[:2, 2:]) + X))))  \n",
        "      "
      ],
      "metadata": {
        "pycharm": {
          "name": "#%%\n"
        },
        "id": "SPWLjHAD4Jlk"
      }
    },
    {
      "cell_type": "code",
      "source": [
        "def mul(A, B):\n",
        "  C = np.zeros([A.shape[0], B.shape[1]])\n",
        "\n",
        "  for i in range(A.shape[0]):\n",
        "        for j in range(B.shape[1]):\n",
        "            for k in range(B.shape[0]):\n",
        "                C[i, j] += A[i, k] * B[k, j]\n",
        "  return C            "
      ],
      "metadata": {
        "id": "B2UDS5SJ7QBV"
      },
      "execution_count": null,
      "outputs": []
    },
    {
      "cell_type": "code",
      "source": [
        "starttime = time.time()\n",
        "\n",
        "print(submat_mul(A, B))\n",
        "print('Time taken = {} seconds'.format(time.time() - starttime))"
      ],
      "metadata": {
        "id": "S5ZJSbhN8TgI"
      },
      "execution_count": null,
      "outputs": []
    },
    {
      "cell_type": "code",
      "source": [
        "from multiprocessing import Pool\n",
        "\n",
        "if __name__ == '__main__':\n",
        "  starttime = time.time()\n",
        "   with Pool(processes=4) as pool:\n",
        "\n",
        "        print(pool.map(submat_mul, A, B))\n",
        "print(submat_mul(A, B))        \n",
        "print('Time taken = {} seconds'.format(time.time() - starttime))  "
      ],
      "metadata": {
        "id": "hwni2UW08JtC"
      },
      "execution_count": null,
      "outputs": []
    },
    {
      "cell_type": "code",
      "source": [
        "import threading\n",
        "starttime = time.time()\n",
        "\n",
        "thr1 = threading.Thread(target = submat_mul, args = (A, B))\n",
        "thr1.start()\n",
        "\n",
        "print(submat_mul(A, B))        \n",
        "print('Time taken = {} seconds'.format(time.time() - starttime))   "
      ],
      "metadata": {
        "id": "g7QEihlr8JCu"
      },
      "execution_count": null,
      "outputs": []
    }
  ],
  "metadata": {
    "kernelspec": {
      "display_name": "Python 3",
      "language": "python",
      "name": "python3"
    },
    "language_info": {
      "codemirror_mode": {
        "name": "ipython",
        "version": 2
      },
      "file_extension": ".py",
      "mimetype": "text/x-python",
      "name": "python",
      "nbconvert_exporter": "python",
      "pygments_lexer": "ipython2",
      "version": "2.7.6"
    },
    "colab": {
      "name": "block matrix multiplication.ipynb",
      "provenance": []
    }
  },
  "nbformat": 4,
  "nbformat_minor": 0
}